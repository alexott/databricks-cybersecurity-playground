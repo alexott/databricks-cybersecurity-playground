{
 "cells": [
  {
   "cell_type": "markdown",
   "metadata": {
    "application/vnd.databricks.v1+cell": {
     "cellMetadata": {
      "byteLimit": 2048000,
      "rowLimit": 10000
     },
     "inputWidgets": {},
     "nuid": "4f0d7976-9cd3-4567-b9da-e88f1f056eb2",
     "showTitle": false,
     "tableResultSettingsMap": {},
     "title": ""
    }
   },
   "source": [
    "\n",
    "## UDFs to support OCSF mappings"
   ]
  },
  {
   "cell_type": "code",
   "execution_count": 0,
   "metadata": {
    "application/vnd.databricks.v1+cell": {
     "cellMetadata": {
      "byteLimit": 2048000,
      "rowLimit": 10000
     },
     "inputWidgets": {},
     "nuid": "a6553c5c-1501-4902-b316-b464c7226ead",
     "showTitle": false,
     "tableResultSettingsMap": {},
     "title": ""
    }
   },
   "outputs": [],
   "source": [
    "CREATE OR REPLACE FUNCTION ocsf_network_activity_name(activity_id INTEGER)\n",
    "  RETURNS STRING\n",
    "  COMMENT 'Maps network activity_id into the name'\n",
    "  RETURN CASE activity_id\n",
    "    WHEN 0 THEN 'Unknown'\n",
    "    WHEN 1 THEN 'Open'\n",
    "    WHEN 2 THEN 'Close'\n",
    "    WHEN 3 THEN 'Reset'\n",
    "    WHEN 4 THEN 'Fail'\n",
    "    WHEN 5 THEN 'Refuse'\n",
    "    WHEN 6 THEN 'Traffic'\n",
    "    WHEN 7 THEN 'Listen'\n",
    "    ELSE 'Other'\n",
    "  END;"
   ]
  },
  {
   "cell_type": "code",
   "execution_count": 0,
   "metadata": {
    "application/vnd.databricks.v1+cell": {
     "cellMetadata": {
      "byteLimit": 2048000,
      "rowLimit": 10000
     },
     "inputWidgets": {},
     "nuid": "6c78a168-14e6-4777-b1d7-35d5177f8c63",
     "showTitle": false,
     "tableResultSettingsMap": {},
     "title": ""
    }
   },
   "outputs": [],
   "source": [
    "CREATE OR REPLACE FUNCTION ocsf_dns_activity_name(activity_id INTEGER)\n",
    "  RETURNS STRING\n",
    "  COMMENT 'Maps DNS activity_id into the name'\n",
    "  RETURN CASE activity_id\n",
    "    WHEN 0 THEN 'Unknown'\n",
    "    WHEN 1 THEN 'Query'\n",
    "    WHEN 2 THEN 'Response'\n",
    "    WHEN 6 THEN 'Traffic'\n",
    "    ELSE 'Other'\n",
    "  END;"
   ]
  },
  {
   "cell_type": "code",
   "execution_count": 0,
   "metadata": {
    "application/vnd.databricks.v1+cell": {
     "cellMetadata": {
      "byteLimit": 2048000,
      "rowLimit": 10000
     },
     "inputWidgets": {},
     "nuid": "c271f19b-bb69-477c-ba9d-22ef6fecd939",
     "showTitle": false,
     "tableResultSettingsMap": {},
     "title": ""
    }
   },
   "outputs": [],
   "source": [
    "CREATE OR REPLACE FUNCTION ocsf_http_activity_name(activity_id INTEGER)\n",
    "  RETURNS STRING\n",
    "  COMMENT 'Maps HTTP activity_id into the name'\n",
    "  RETURN CASE activity_id\n",
    "    WHEN 0 THEN 'Unknown'\n",
    "    WHEN 1 THEN 'Connect'\n",
    "    WHEN 2 THEN 'Delete'\n",
    "    WHEN 3 THEN 'Get'\n",
    "    WHEN 4 THEN 'Head'\n",
    "    WHEN 5 THEN 'Options'\n",
    "    WHEN 6 THEN 'Post'\n",
    "    WHEN 7 THEN 'Put'\n",
    "    WHEN 8 THEN 'Trace'\n",
    "    WHEN 9 THEN 'Patch'\n",
    "    ELSE 'Other'\n",
    "  END;"
   ]
  },
  {
   "cell_type": "code",
   "execution_count": 0,
   "metadata": {
    "application/vnd.databricks.v1+cell": {
     "cellMetadata": {
      "byteLimit": 2048000,
      "rowLimit": 10000
     },
     "inputWidgets": {},
     "nuid": "82508797-5e7e-462b-a4be-eceeb4c90585",
     "showTitle": false,
     "tableResultSettingsMap": {},
     "title": ""
    }
   },
   "outputs": [],
   "source": [
    "CREATE OR REPLACE FUNCTION ocsf_file_activity_name(activity_id INTEGER)\n",
    "  RETURNS STRING\n",
    "  COMMENT 'Maps file system activity_id into the name'\n",
    "  RETURN CASE activity_id\n",
    "    WHEN 0 THEN 'Unknown'\n",
    "    WHEN 1 THEN 'Create'\n",
    "    WHEN 2 THEN 'Read'\n",
    "    WHEN 3 THEN 'Update'\n",
    "    WHEN 4 THEN 'Delete'\n",
    "    WHEN 5 THEN 'Rename'\n",
    "    WHEN 6 THEN 'Set Attributes'\n",
    "    WHEN 7 THEN 'Set Security'\n",
    "    WHEN 8 THEN 'Get Attributes'\n",
    "    WHEN 9 THEN 'Get Security'\n",
    "    WHEN 9 THEN 'Encrypt'\n",
    "    WHEN 9 THEN 'Decrypt'\n",
    "    WHEN 9 THEN 'Mount'\n",
    "    WHEN 9 THEN 'Unmount'\n",
    "    WHEN 9 THEN 'Open'\n",
    "    ELSE 'Other'\n",
    "  END;"
   ]
  },
  {
   "cell_type": "code",
   "execution_count": 0,
   "metadata": {
    "application/vnd.databricks.v1+cell": {
     "cellMetadata": {
      "byteLimit": 2048000,
      "rowLimit": 10000
     },
     "inputWidgets": {},
     "nuid": "059c0e46-f769-43ad-9ad6-3f7a4100da4b",
     "showTitle": false,
     "tableResultSettingsMap": {},
     "title": ""
    }
   },
   "outputs": [],
   "source": [
    "CREATE OR REPLACE FUNCTION ocsf_http_activity_id(verb STRING)\n",
    "  RETURNS INT\n",
    "  COMMENT 'Maps HTTP verb into OCSF numeric code'\n",
    "  RETURN CASE lower(verb)\n",
    "    WHEN 'connect' THEN 1\n",
    "    WHEN 'delete' THEN 2\n",
    "    WHEN 'get' THEN 3\n",
    "    WHEN 'head' THEN 4\n",
    "    WHEN 'options' THEN 5\n",
    "    WHEN 'post' THEN 6\n",
    "    WHEN 'put' THEN 7\n",
    "    WHEN 'trace' THEN 8\n",
    "    WHEN 'patch' THEN 9\n",
    "    WHEN '' THEN 0  -- TODO: handle null string\n",
    "    ELSE 99\n",
    "    END;"
   ]
  }
 ],
 "metadata": {
  "application/vnd.databricks.v1+notebook": {
   "computePreferences": {
    "hardware": {
     "accelerator": null,
     "gpuPoolId": null,
     "memory": null
    }
   },
   "dashboards": [],
   "environmentMetadata": {
    "base_environment": "",
    "environment_version": "3"
   },
   "inputWidgetPreferences": null,
   "language": "sql",
   "notebookMetadata": {
    "pythonIndentUnit": 4
   },
   "notebookName": "ocsf",
   "widgets": {}
  },
  "language_info": {
   "name": "sql"
  }
 },
 "nbformat": 4,
 "nbformat_minor": 0
}
